{
 "cells": [
  {
   "cell_type": "code",
   "execution_count": 1,
   "id": "de860f43",
   "metadata": {},
   "outputs": [],
   "source": [
    "from PIL import Image\n",
    "import requests\n",
    "import os\n",
    "import pandas as pd\n",
    "from transformers import CLIPProcessor, CLIPModel"
   ]
  },
  {
   "cell_type": "code",
   "execution_count": 2,
   "id": "dc9fc059",
   "metadata": {},
   "outputs": [],
   "source": [
    "# Load model directly\n",
    "from transformers import AutoProcessor, AutoModelForZeroShotImageClassification\n",
    "\n",
    "processor = AutoProcessor.from_pretrained(\"patrickjohncyh/fashion-clip\")\n",
    "model = AutoModelForZeroShotImageClassification.from_pretrained(\"patrickjohncyh/fashion-clip\")"
   ]
  },
  {
   "cell_type": "code",
   "execution_count": 3,
   "id": "56e085a0",
   "metadata": {},
   "outputs": [],
   "source": [
    "outfits= pd.read_csv('./datathon/dataset/outfit_data.csv')\n",
    "product = pd.read_csv('./datathon/dataset/product_data.csv')"
   ]
  },
  {
   "cell_type": "code",
   "execution_count": 9,
   "id": "9f153504",
   "metadata": {},
   "outputs": [],
   "source": [
    "#Deleting all the products that are not clothes\n",
    "product = product[(product.des_product_category!= 'Beauty') & (product.des_product_category!= 'Home')]\n",
    "# Delete all products for men and kids due to desbalance\n",
    "product = product[(product.des_line== 'SHE')]\n",
    "product = product[(product.des_sex== 'Female')]\n",
    "product = product[(product.des_age== 'Adult')]\n",
    "product = product[~product.des_product_aggregated_family.isin(['Dresses and jumpsuits','Swim and intimate'])]\n",
    "product = product[(product.des_product_aggregated_family!='Accesories') | (product.des_product_family=='Footwear')]\n",
    "product['des_product_category'] = product['des_product_category'].apply(lambda x: 'Tops' if x =='Outerwear' else x)\n",
    "product =product.drop(['des_sex','des_line','des_age'], axis = 1)\n",
    "\n",
    "# Delete the deleted products from outfits\n",
    "outfits = outfits[outfits.cod_modelo_color.isin(product.cod_modelo_color.unique())]"
   ]
  },
  {
   "cell_type": "code",
   "execution_count": 12,
   "id": "32d5be4b",
   "metadata": {},
   "outputs": [],
   "source": [
    "def getEmbeding(x):\n",
    "    try:\n",
    "        img = Image.open(x)\n",
    "        inputs = processor(images=[img], return_tensors=\"pt\", padding=True)\n",
    "        return inputs['pixel_values'].view(-1).numpy()\n",
    "    except:\n",
    "        return None\n",
    "\n",
    "product['emb'] = product['des_filename'].apply(getEmbeding)"
   ]
  },
  {
   "cell_type": "code",
   "execution_count": 13,
   "id": "e0a0cefc",
   "metadata": {},
   "outputs": [],
   "source": [
    "outfits.to_pickle('./datathon/dataset/final_outfits')\n",
    "product.to_pickle('./datathon/dataset/final_products')"
   ]
  },
  {
   "cell_type": "code",
   "execution_count": null,
   "id": "e046517d",
   "metadata": {},
   "outputs": [],
   "source": []
  }
 ],
 "metadata": {
  "kernelspec": {
   "display_name": "Python 3 (ipykernel)",
   "language": "python",
   "name": "python3"
  },
  "language_info": {
   "codemirror_mode": {
    "name": "ipython",
    "version": 3
   },
   "file_extension": ".py",
   "mimetype": "text/x-python",
   "name": "python",
   "nbconvert_exporter": "python",
   "pygments_lexer": "ipython3",
   "version": "3.10.13"
  }
 },
 "nbformat": 4,
 "nbformat_minor": 5
}
